{
 "cells": [
  {
   "cell_type": "code",
   "execution_count": 1,
   "metadata": {},
   "outputs": [
    {
     "name": "stderr",
     "output_type": "stream",
     "text": [
      "Using TensorFlow backend.\n"
     ]
    }
   ],
   "source": [
    "#importing keras libraries and other libraries\n",
    "from keras import backend as K\n",
    "from keras.models import Sequential\n",
    "from keras.layers.convolutional import Conv2D\n",
    "from keras.layers.convolutional import MaxPooling2D\n",
    "from keras.layers.core import Activation\n",
    "from keras.layers.core import Flatten\n",
    "from keras.layers.core import Dense\n",
    "from keras.datasets import mnist\n",
    "from keras.utils import np_utils\n",
    "from keras.optimizers import SGD, RMSprop, Adam\n",
    "import numpy as np\n",
    "import matplotlib.pyplot as plt"
   ]
  },
  {
   "cell_type": "code",
   "execution_count": 35,
   "metadata": {},
   "outputs": [],
   "source": [
    "#define the ConvNetaticmethod\n",
    "class LeNet:\n",
    "    @staticmethod\n",
    "    def build(input_shape,classes):\n",
    "        model=Sequential()\n",
    "        #CONV => RELU => POOL\n",
    "        model.add(Conv2D(20,kernel_size=5,padding=\"same\",\n",
    "                 input_shape=input_shape))\n",
    "        model.add(Activation(\"relu\"))\n",
    "        model.add(MaxPooling2D(pool_size=(2, 2), strides=(2, 2),dim_ordering=\"th\"))\n",
    "        #CONV => RELU => POOL\n",
    "        model.add(Conv2D(50,kernel_size=5,border_mode=\"same\"))\n",
    "        model.add(Activation(\"relu\"))\n",
    "        model.add(MaxPooling2D(pool_size=(2, 2), strides=(2, 2),dim_ordering=\"th\"))\n",
    "        #Flatten => RELU\n",
    "        model.add(Flatten())\n",
    "        model.add(Dense(500))\n",
    "        model.add(Activation(\"relu\"))\n",
    "        #softmax\n",
    "        model.add(Dense(classes))\n",
    "        model.add(Activation(\"softmax\"))\n",
    "        return model\n",
    "        "
   ]
  },
  {
   "cell_type": "code",
   "execution_count": 36,
   "metadata": {},
   "outputs": [],
   "source": [
    "# network and training\n",
    "NB_EPOCH = 20\n",
    "BATCH_SIZE = 128\n",
    "VERBOSE = 1\n",
    "OPTIMIZER = Adam()\n",
    "VALIDATION_SPLIT=0.2\n",
    "IMG_ROWS, IMG_COLS = 28, 28 # input image dimensions\n",
    "NB_CLASSES = 10 # number of outputs = number of digits\n",
    "INPUT_SHAPE = (1, IMG_ROWS, IMG_COLS)"
   ]
  },
  {
   "cell_type": "code",
   "execution_count": 37,
   "metadata": {},
   "outputs": [],
   "source": [
    "# data: shuffled and split between train and test sets\n",
    "(X_train, y_train), (X_test, y_test) = mnist.load_data()\n",
    "#k.set_image_dim_ordering(\"th\")\n",
    "# consider them as float and normalize\n",
    "X_train = X_train.astype('float32')\n",
    "X_test = X_test.astype('float32')\n",
    "X_train /= 255\n",
    "X_test /= 255"
   ]
  },
  {
   "cell_type": "code",
   "execution_count": 38,
   "metadata": {},
   "outputs": [
    {
     "name": "stdout",
     "output_type": "stream",
     "text": [
      "60000 train samples\n",
      "10000 test samples\n"
     ]
    }
   ],
   "source": [
    "# we need a 60K x [1 x 28 x 28] shape as input to the CONVNET\n",
    "X_train = X_train[:, np.newaxis, :, :]\n",
    "X_test = X_test[:, np.newaxis, :, :]\n",
    "print(X_train.shape[0], 'train samples')\n",
    "print(X_test.shape[0], 'test samples')"
   ]
  },
  {
   "cell_type": "code",
   "execution_count": 39,
   "metadata": {},
   "outputs": [],
   "source": [
    "# convert class vectors to binary class matrices\n",
    "y_train = np_utils.to_categorical(y_train, NB_CLASSES)\n",
    "y_test = np_utils.to_categorical(y_test, NB_CLASSES)"
   ]
  },
  {
   "cell_type": "code",
   "execution_count": 40,
   "metadata": {},
   "outputs": [
    {
     "name": "stdout",
     "output_type": "stream",
     "text": [
      "WARNING:tensorflow:From /home/devendra/anaconda3/lib/python3.7/site-packages/keras/backend/tensorflow_backend.py:190: The name tf.get_default_session is deprecated. Please use tf.compat.v1.get_default_session instead.\n",
      "\n",
      "WARNING:tensorflow:From /home/devendra/anaconda3/lib/python3.7/site-packages/keras/backend/tensorflow_backend.py:197: The name tf.ConfigProto is deprecated. Please use tf.compat.v1.ConfigProto instead.\n",
      "\n"
     ]
    },
    {
     "name": "stderr",
     "output_type": "stream",
     "text": [
      "/home/devendra/anaconda3/lib/python3.7/site-packages/ipykernel_launcher.py:10: UserWarning: Update your `MaxPooling2D` call to the Keras 2 API: `MaxPooling2D(pool_size=(2, 2), strides=(2, 2), data_format=\"channels_first\")`\n",
      "  # Remove the CWD from sys.path while we load stuff.\n"
     ]
    },
    {
     "name": "stdout",
     "output_type": "stream",
     "text": [
      "WARNING:tensorflow:From /home/devendra/anaconda3/lib/python3.7/site-packages/keras/optimizers.py:793: The name tf.train.Optimizer is deprecated. Please use tf.compat.v1.train.Optimizer instead.\n",
      "\n",
      "WARNING:tensorflow:From /home/devendra/anaconda3/lib/python3.7/site-packages/tensorflow/python/ops/math_grad.py:1250: add_dispatch_support.<locals>.wrapper (from tensorflow.python.ops.array_ops) is deprecated and will be removed in a future version.\n",
      "Instructions for updating:\n",
      "Use tf.where in 2.0, which has the same broadcast rule as np.where\n"
     ]
    },
    {
     "name": "stderr",
     "output_type": "stream",
     "text": [
      "/home/devendra/anaconda3/lib/python3.7/site-packages/ipykernel_launcher.py:12: UserWarning: Update your `Conv2D` call to the Keras 2 API: `Conv2D(50, kernel_size=5, padding=\"same\")`\n",
      "  if sys.path[0] == '':\n",
      "/home/devendra/anaconda3/lib/python3.7/site-packages/ipykernel_launcher.py:14: UserWarning: Update your `MaxPooling2D` call to the Keras 2 API: `MaxPooling2D(pool_size=(2, 2), strides=(2, 2), data_format=\"channels_first\")`\n",
      "  \n"
     ]
    },
    {
     "name": "stdout",
     "output_type": "stream",
     "text": [
      "Train on 48000 samples, validate on 12000 samples\n",
      "Epoch 1/20\n",
      "48000/48000 [==============================] - 5s 108us/step - loss: 0.4515 - acc: 0.8666 - val_loss: 0.1640 - val_acc: 0.9487\n",
      "Epoch 2/20\n",
      "48000/48000 [==============================] - 5s 96us/step - loss: 0.1326 - acc: 0.9591 - val_loss: 0.1243 - val_acc: 0.9623\n",
      "Epoch 3/20\n",
      "48000/48000 [==============================] - 4s 83us/step - loss: 0.0955 - acc: 0.9704 - val_loss: 0.0859 - val_acc: 0.9753\n",
      "Epoch 4/20\n",
      "48000/48000 [==============================] - 4s 83us/step - loss: 0.0763 - acc: 0.9763 - val_loss: 0.0874 - val_acc: 0.9742\n",
      "Epoch 5/20\n",
      "48000/48000 [==============================] - 4s 85us/step - loss: 0.0639 - acc: 0.9805 - val_loss: 0.0679 - val_acc: 0.9778\n",
      "Epoch 6/20\n",
      "48000/48000 [==============================] - 4s 86us/step - loss: 0.0556 - acc: 0.9829 - val_loss: 0.0667 - val_acc: 0.9801\n",
      "Epoch 7/20\n",
      "48000/48000 [==============================] - 4s 88us/step - loss: 0.0497 - acc: 0.9845 - val_loss: 0.0584 - val_acc: 0.9813\n",
      "Epoch 8/20\n",
      "48000/48000 [==============================] - 4s 87us/step - loss: 0.0443 - acc: 0.9855 - val_loss: 0.0581 - val_acc: 0.9826\n",
      "Epoch 9/20\n",
      "48000/48000 [==============================] - 4s 87us/step - loss: 0.0386 - acc: 0.9880 - val_loss: 0.0649 - val_acc: 0.9788\n",
      "Epoch 10/20\n",
      "48000/48000 [==============================] - 5s 100us/step - loss: 0.0345 - acc: 0.9892 - val_loss: 0.0733 - val_acc: 0.9771\n",
      "Epoch 11/20\n",
      "48000/48000 [==============================] - 4s 92us/step - loss: 0.0319 - acc: 0.9900 - val_loss: 0.0585 - val_acc: 0.9820\n",
      "Epoch 12/20\n",
      "48000/48000 [==============================] - 4s 90us/step - loss: 0.0278 - acc: 0.9913 - val_loss: 0.0528 - val_acc: 0.9845\n",
      "Epoch 13/20\n",
      "48000/48000 [==============================] - 4s 88us/step - loss: 0.0264 - acc: 0.9912 - val_loss: 0.0515 - val_acc: 0.9839\n",
      "Epoch 14/20\n",
      "48000/48000 [==============================] - 4s 91us/step - loss: 0.0224 - acc: 0.9922 - val_loss: 0.0568 - val_acc: 0.9840\n",
      "Epoch 15/20\n",
      "48000/48000 [==============================] - 4s 90us/step - loss: 0.0206 - acc: 0.9935 - val_loss: 0.0525 - val_acc: 0.9857\n",
      "Epoch 16/20\n",
      "48000/48000 [==============================] - 5s 95us/step - loss: 0.0183 - acc: 0.9941 - val_loss: 0.0513 - val_acc: 0.9850\n",
      "Epoch 17/20\n",
      "48000/48000 [==============================] - 5s 97us/step - loss: 0.0135 - acc: 0.9956 - val_loss: 0.0515 - val_acc: 0.9856\n",
      "Epoch 18/20\n",
      "48000/48000 [==============================] - 4s 91us/step - loss: 0.0160 - acc: 0.9945 - val_loss: 0.0551 - val_acc: 0.9847\n",
      "Epoch 19/20\n",
      "48000/48000 [==============================] - 5s 94us/step - loss: 0.0125 - acc: 0.9960 - val_loss: 0.0717 - val_acc: 0.9802\n",
      "Epoch 20/20\n",
      "48000/48000 [==============================] - 5s 95us/step - loss: 0.0118 - acc: 0.9956 - val_loss: 0.0537 - val_acc: 0.9853\n",
      "10000/10000 [==============================] - 1s 68us/step\n",
      "Test score: 0.0498037611029582\n",
      "Test accuracy: 0.9865\n"
     ]
    }
   ],
   "source": [
    "# initialize the optimizer and model\n",
    "model = LeNet.build(input_shape=INPUT_SHAPE, classes=NB_CLASSES)\n",
    "model.compile(loss=\"categorical_crossentropy\", optimizer=OPTIMIZER,\n",
    "metrics=[\"accuracy\"])\n",
    "history = model.fit(X_train, y_train,\n",
    "batch_size=BATCH_SIZE, epochs=NB_EPOCH,\n",
    "verbose=VERBOSE, validation_split=VALIDATION_SPLIT)\n",
    "score = model.evaluate(X_test, y_test, verbose=VERBOSE)\n",
    "print(\"Test score:\", score[0])\n",
    "print('Test accuracy:', score[1])"
   ]
  },
  {
   "cell_type": "code",
   "execution_count": 41,
   "metadata": {},
   "outputs": [
    {
     "data": {
      "image/png": "[encoded data removed]",
      "text/plain": [
       "<Figure size 432x288 with 1 Axes>"
      ]
     },
     "metadata": {
      "needs_background": "light"
     },
     "output_type": "display_data"
    }
   ],
   "source": [
    "# summarize history for accuracy\n",
    "plt.plot(history.history['acc'])\n",
    "plt.plot(history.history['val_acc'])\n",
    "plt.title('model accuracy')\n",
    "plt.ylabel('accuracy')\n",
    "plt.xlabel('epoch')\n",
    "plt.legend(['train', 'test'], loc='upper left')\n",
    "plt.show()"
   ]
  },
  {
   "cell_type": "code",
   "execution_count": 42,
   "metadata": {},
   "outputs": [
    {
     "data": {
      "image/png": "[encoded data removed]",
      "text/plain": [
       "<Figure size 432x288 with 1 Axes>"
      ]
     },
     "metadata": {
      "needs_background": "light"
     },
     "output_type": "display_data"
    }
   ],
   "source": [
    "# summarize history for loss\n",
    "plt.plot(history.history['loss'])\n",
    "plt.plot(history.history['val_loss'])\n",
    "plt.title('model loss')\n",
    "plt.ylabel('loss')\n",
    "plt.xlabel('epoch')\n",
    "plt.legend(['train', 'test'], loc='upper left')\n",
    "plt.show()"
   ]
  },
  {
   "cell_type": "code",
   "execution_count": null,
   "metadata": {},
   "outputs": [],
   "source": []
  }
 ],
 "metadata": {
  "kernelspec": {
   "display_name": "Python 3",
   "language": "python",
   "name": "python3"
  },
  "language_info": {
   "codemirror_mode": {
    "name": "ipython",
    "version": 3
   },
   "file_extension": ".py",
   "mimetype": "text/x-python",
   "name": "python",
   "nbconvert_exporter": "python",
   "pygments_lexer": "ipython3",
   "version": "3.7.3"
  }
 },
 "nbformat": 4,
 "nbformat_minor": 2
}
